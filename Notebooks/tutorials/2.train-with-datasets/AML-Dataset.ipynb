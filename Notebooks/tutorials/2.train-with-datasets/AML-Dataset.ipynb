{
 "cells": [
  {
   "cell_type": "markdown",
   "id": "worse-picnic",
   "metadata": {},
   "source": [
    "# Create Dataset in  Azure Machine Learning"
   ]
  },
  {
   "cell_type": "markdown",
   "id": "available-syntax",
   "metadata": {},
   "source": [
    "## Prerequisites"
   ]
  },
  {
   "cell_type": "code",
   "execution_count": null,
   "id": "conservative-conclusion",
   "metadata": {},
   "outputs": [],
   "source": [
    "# Check core SDK version number\n",
    "import azureml.core\n",
    "\n",
    "print('SDK version:', azureml.core.VERSION)"
   ]
  },
  {
   "cell_type": "markdown",
   "id": "contemporary-sodium",
   "metadata": {},
   "source": [
    " ## Initialize Workspace "
   ]
  },
  {
   "cell_type": "code",
   "execution_count": null,
   "id": "continental-seminar",
   "metadata": {},
   "outputs": [],
   "source": [
    "from azureml.core import Workspace\n",
    "\n",
    "ws = Workspace.from_config()\n",
    "print(ws.name, ws.resource_group, ws.location, ws.subscription_id, sep='\\n')"
   ]
  },
  {
   "cell_type": "markdown",
   "id": "informal-bottle",
   "metadata": {},
   "source": [
    "## Create a TabularDataset"
   ]
  },
  {
   "cell_type": "code",
   "execution_count": null,
   "id": "manual-electron",
   "metadata": {},
   "outputs": [],
   "source": [
    "from azureml.core import Dataset\n",
    "from azureml.data.dataset_factory import DataType\n",
    "\n",
    "# create a TabularDataset from a delimited file behind a public web url and convert column \"Survived\" to boolean\n",
    "web_path ='https://dprepdata.blob.core.windows.net/demo/Titanic.csv'\n",
    "titanic_ds = Dataset.Tabular.from_delimited_files(path=web_path, set_column_types={'Survived': DataType.to_bool()})\n",
    "\n",
    "# preview the first 3 rows of titanic_ds\n",
    "titanic_ds.take(3).to_pandas_dataframe()"
   ]
  },
  {
   "cell_type": "markdown",
   "id": "standard-president",
   "metadata": {},
   "source": [
    "## Register datasets"
   ]
  },
  {
   "cell_type": "code",
   "execution_count": null,
   "id": "presidential-heading",
   "metadata": {},
   "outputs": [],
   "source": [
    "titanic_ds = titanic_ds.register(workspace=ws,\n",
    "                                 name='titanic_ds',\n",
    "                                 description='titanic training data')"
   ]
  },
  {
   "cell_type": "markdown",
   "id": "under-mitchell",
   "metadata": {},
   "source": [
    "## Version datasets"
   ]
  },
  {
   "cell_type": "code",
   "execution_count": null,
   "id": "honey-outside",
   "metadata": {},
   "outputs": [],
   "source": [
    "# create a TabularDataset from Titanic training data\n",
    "web_paths = ['https://dprepdata.blob.core.windows.net/demo/Titanic.csv',\n",
    "             'https://dprepdata.blob.core.windows.net/demo/Titanic2.csv']\n",
    "titanic_ds = Dataset.Tabular.from_delimited_files(path=web_paths)\n",
    "\n",
    "# create a new version of titanic_ds\n",
    "titanic_ds = titanic_ds.register(workspace = workspace,\n",
    "                                 name = 'titanic_ds',\n",
    "                                 description = 'new titanic training data',\n",
    "                                 create_new_version = True)"
   ]
  }
 ],
 "metadata": {
  "kernelspec": {
   "display_name": "Python 3.8 - AzureML",
   "language": "python",
   "name": "python38-azureml"
  },
  "language_info": {
   "codemirror_mode": {
    "name": "ipython",
    "version": 3
   },
   "file_extension": ".py",
   "mimetype": "text/x-python",
   "name": "python",
   "nbconvert_exporter": "python",
   "pygments_lexer": "ipython3",
   "version": "3.8.1"
  }
 },
 "nbformat": 4,
 "nbformat_minor": 5
}
